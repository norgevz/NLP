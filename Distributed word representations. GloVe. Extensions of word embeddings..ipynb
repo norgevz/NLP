{
 "cells": [
  {
   "cell_type": "markdown",
   "metadata": {},
   "source": [
    "## Simple sentiment analysis with Keras and GloVe embeddings"
   ]
  },
  {
   "cell_type": "code",
   "execution_count": 1,
   "metadata": {},
   "outputs": [
    {
     "name": "stderr",
     "output_type": "stream",
     "text": [
      "c:\\program files\\python36\\lib\\site-packages\\gensim\\utils.py:860: UserWarning: detected Windows; aliasing chunkize to chunkize_serial\n",
      "  warnings.warn(\"detected Windows; aliasing chunkize to chunkize_serial\")\n"
     ]
    }
   ],
   "source": [
    "import gensim\n",
    "g = gensim.models.KeyedVectors.load_word2vec_format(\"data/glove.6B.300d.w2v.txt\")"
   ]
  },
  {
   "cell_type": "code",
   "execution_count": 2,
   "metadata": {},
   "outputs": [
    {
     "data": {
      "text/plain": [
       "[('goodbye', 0.5937638282775879),\n",
       " ('hey', 0.5576733946800232),\n",
       " ('!', 0.5420621633529663),\n",
       " ('dolly', 0.4840484857559204),\n",
       " ('muddah', 0.47528818249702454),\n",
       " ('yeah', 0.46858829259872437),\n",
       " ('wow', 0.4671405553817749),\n",
       " ('greeting', 0.4478132128715515),\n",
       " ('thank', 0.4400608241558075),\n",
       " ('kitty', 0.4307236075401306)]"
      ]
     },
     "execution_count": 2,
     "metadata": {},
     "output_type": "execute_result"
    }
   ],
   "source": [
    "g.most_similar(\"hello\")"
   ]
  },
  {
   "cell_type": "code",
   "execution_count": 3,
   "metadata": {},
   "outputs": [],
   "source": [
    "import nltk\n",
    "stopwords = set(nltk.corpus.stopwords.words('english'))"
   ]
  },
  {
   "cell_type": "code",
   "execution_count": 4,
   "metadata": {},
   "outputs": [],
   "source": [
    "import numpy as np"
   ]
  },
  {
   "cell_type": "code",
   "execution_count": 5,
   "metadata": {},
   "outputs": [],
   "source": [
    "with open(\"data/reviews.txt\") as f:\n",
    "    reviews = [ [y.lower() for y in line.strip().split() if y not in stopwords and len(y) > 2 and y in g ] for line in f ]"
   ]
  },
  {
   "cell_type": "code",
   "execution_count": 6,
   "metadata": {},
   "outputs": [],
   "source": [
    "with open(\"data/labels.txt\") as f:\n",
    "    labels = np.array([ 1 if line.strip() == 'positive' else 0 for line in f ])"
   ]
  },
  {
   "cell_type": "code",
   "execution_count": 10,
   "metadata": {},
   "outputs": [],
   "source": [
    "max_words = 100\n",
    "embedding_dim = 300"
   ]
  },
  {
   "cell_type": "code",
   "execution_count": 11,
   "metadata": {},
   "outputs": [],
   "source": [
    "from keras.preprocessing.text import Tokenizer\n",
    "from keras.preprocessing.sequence import pad_sequences\n",
    "tokenizer = Tokenizer(num_words=50000)\n",
    "texts = [\" \".join(review) for review in reviews]\n",
    "tokenizer.fit_on_texts(texts)\n",
    "sequences = tokenizer.texts_to_sequences(texts)\n",
    "data = pad_sequences(sequences, maxlen=max_words)\n",
    "vocab = tokenizer.word_index"
   ]
  },
  {
   "cell_type": "code",
   "execution_count": 12,
   "metadata": {},
   "outputs": [],
   "source": [
    "glove_emb = np.zeros((len(vocab) + 1, embedding_dim))\n",
    "for word, i in vocab.items():\n",
    "    if word in g:\n",
    "        glove_emb[i] = g[word]"
   ]
  },
  {
   "cell_type": "code",
   "execution_count": 21,
   "metadata": {},
   "outputs": [],
   "source": [
    "from tensorflow import keras\n",
    "from keras.preprocessing import sequence\n",
    "from keras.models import Sequential\n",
    "from keras.layers import Dense, Embedding\n",
    "from keras.layers import LSTM"
   ]
  },
  {
   "cell_type": "code",
   "execution_count": 22,
   "metadata": {},
   "outputs": [],
   "source": [
    "X_train, y_train, X_val, y_val = data[:20000], labels[:20000], data[20000:], labels[20000:]"
   ]
  },
  {
   "cell_type": "code",
   "execution_count": 29,
   "metadata": {},
   "outputs": [],
   "source": [
    "model = Sequential()\n",
    "model.add(Embedding(len(vocab) + 1, embedding_dim, weights=[glove_emb], input_length=max_words, trainable=False))\n",
    "model.add(LSTM(128, dropout=0.3, recurrent_dropout=0.3))\n",
    "model.add(Dense(1, activation='sigmoid'))"
   ]
  },
  {
   "cell_type": "code",
   "execution_count": null,
   "metadata": {},
   "outputs": [],
   "source": [
    "model.compile(loss='binary_crossentropy', optimizer='rmsprop', metrics=['acc'])\n",
    "model.fit(X_train, y_train, validation_data=(X_val, y_val), epochs=20, batch_size=128)"
   ]
  },
  {
   "cell_type": "code",
   "execution_count": 31,
   "metadata": {},
   "outputs": [],
   "source": [
    "model = Sequential()\n",
    "\n",
    "model.add(Embedding(len(vocab) + 1, embedding_dim, weights=[glove_emb], input_length=max_words, trainable=False))\n",
    "\n",
    "model.add(LSTM(128, return_sequences=True, dropout=0.3, recurrent_dropout=0.3))\n",
    "model.add(LSTM(64, dropout=0.3, recurrent_dropout=0.3))\n",
    "\n",
    "model.add(Dense(64, activation='relu'))\n",
    "model.add(Dense(1, activation='sigmoid'))"
   ]
  },
  {
   "cell_type": "code",
   "execution_count": 32,
   "metadata": {},
   "outputs": [
    {
     "name": "stdout",
     "output_type": "stream",
     "text": [
      "Train on 20000 samples, validate on 5000 samples\n",
      "Epoch 1/20\n",
      "20000/20000 [==============================] - 61s 3ms/step - loss: 0.5418 - acc: 0.7294 - val_loss: 0.4225 - val_acc: 0.8130\n",
      "Epoch 2/20\n",
      "20000/20000 [==============================] - 59s 3ms/step - loss: 0.4541 - acc: 0.7913 - val_loss: 0.5015 - val_acc: 0.7428\n",
      "Epoch 3/20\n",
      "20000/20000 [==============================] - 59s 3ms/step - loss: 0.4176 - acc: 0.8120 - val_loss: 0.4073 - val_acc: 0.8218\n",
      "Epoch 4/20\n",
      "20000/20000 [==============================] - 59s 3ms/step - loss: 0.3868 - acc: 0.8293 - val_loss: 0.3886 - val_acc: 0.8370\n",
      "Epoch 5/20\n",
      "20000/20000 [==============================] - 59s 3ms/step - loss: 0.3680 - acc: 0.8391 - val_loss: 0.3497 - val_acc: 0.8494\n",
      "Epoch 6/20\n",
      "20000/20000 [==============================] - 59s 3ms/step - loss: 0.3482 - acc: 0.8500 - val_loss: 0.3349 - val_acc: 0.8554\n",
      "Epoch 7/20\n",
      "20000/20000 [==============================] - 58s 3ms/step - loss: 0.3343 - acc: 0.8582 - val_loss: 0.3393 - val_acc: 0.8510\n",
      "Epoch 8/20\n",
      "20000/20000 [==============================] - 58s 3ms/step - loss: 0.3217 - acc: 0.8624 - val_loss: 0.3311 - val_acc: 0.8542\n",
      "Epoch 9/20\n",
      "20000/20000 [==============================] - 59s 3ms/step - loss: 0.3087 - acc: 0.8703 - val_loss: 0.3399 - val_acc: 0.8454\n",
      "Epoch 10/20\n",
      "20000/20000 [==============================] - 59s 3ms/step - loss: 0.2991 - acc: 0.8742 - val_loss: 0.3388 - val_acc: 0.8570\n",
      "Epoch 11/20\n",
      "20000/20000 [==============================] - 59s 3ms/step - loss: 0.2857 - acc: 0.8796 - val_loss: 0.3287 - val_acc: 0.8562\n",
      "Epoch 12/20\n",
      "20000/20000 [==============================] - 59s 3ms/step - loss: 0.2758 - acc: 0.8841 - val_loss: 0.3282 - val_acc: 0.8662\n",
      "Epoch 13/20\n",
      "20000/20000 [==============================] - 59s 3ms/step - loss: 0.2650 - acc: 0.8901 - val_loss: 0.3283 - val_acc: 0.8660\n",
      "Epoch 14/20\n",
      "20000/20000 [==============================] - 59s 3ms/step - loss: 0.2536 - acc: 0.8947 - val_loss: 0.3370 - val_acc: 0.8660\n",
      "Epoch 15/20\n",
      "20000/20000 [==============================] - 59s 3ms/step - loss: 0.2344 - acc: 0.9041 - val_loss: 0.3331 - val_acc: 0.8622\n",
      "Epoch 16/20\n",
      "20000/20000 [==============================] - 58s 3ms/step - loss: 0.2289 - acc: 0.9069 - val_loss: 0.3909 - val_acc: 0.8462\n",
      "Epoch 17/20\n",
      "20000/20000 [==============================] - 59s 3ms/step - loss: 0.2111 - acc: 0.9166 - val_loss: 0.3582 - val_acc: 0.8626\n",
      "Epoch 18/20\n",
      "20000/20000 [==============================] - 59s 3ms/step - loss: 0.1980 - acc: 0.9236 - val_loss: 0.3789 - val_acc: 0.8640\n",
      "Epoch 19/20\n",
      "20000/20000 [==============================] - 59s 3ms/step - loss: 0.1845 - acc: 0.9268 - val_loss: 0.4476 - val_acc: 0.8392\n",
      "Epoch 20/20\n",
      "20000/20000 [==============================] - 59s 3ms/step - loss: 0.1847 - acc: 0.9257 - val_loss: 0.3597 - val_acc: 0.8578\n"
     ]
    },
    {
     "data": {
      "text/plain": [
       "<keras.callbacks.History at 0x19888dc6be0>"
      ]
     },
     "execution_count": 32,
     "metadata": {},
     "output_type": "execute_result"
    }
   ],
   "source": [
    "model.compile(loss='binary_crossentropy', optimizer='rmsprop', metrics=['acc'])\n",
    "model.fit(X_train, y_train, validation_data=(X_val, y_val), epochs=20, batch_size=128)"
   ]
  },
  {
   "cell_type": "code",
   "execution_count": null,
   "metadata": {},
   "outputs": [],
   "source": [
    "s = \"cool movie !\""
   ]
  },
  {
   "cell_type": "code",
   "execution_count": 95,
   "metadata": {},
   "outputs": [],
   "source": [
    "def test_on_texts(s):\n",
    "    print(model.predict(pad_sequences(tokenizer.texts_to_sequences(s), maxlen=max_words)))"
   ]
  },
  {
   "cell_type": "code",
   "execution_count": 97,
   "metadata": {},
   "outputs": [
    {
     "name": "stdout",
     "output_type": "stream",
     "text": [
      "[[0.7248762 ]\n",
      " [0.65714085]\n",
      " [0.27267292]\n",
      " [0.49111417]\n",
      " [0.74458504]\n",
      " [0.5209482 ]]\n"
     ]
    }
   ],
   "source": [
    "test_on_texts([\n",
    "    'this was a great movie',\n",
    "    'i really liked it',\n",
    "    'terrible film, hated it',\n",
    "    'the movie was so-so',\n",
    "    'oh yeah, great movie, a new godfather',\n",
    "    'i would watch it again and again and again'\n",
    "    ])"
   ]
  },
  {
   "cell_type": "code",
   "execution_count": null,
   "metadata": {
    "collapsed": true
   },
   "outputs": [],
   "source": []
  }
 ],
 "metadata": {
  "kernelspec": {
   "display_name": "Python 3",
   "language": "python",
   "name": "python3"
  },
  "language_info": {
   "codemirror_mode": {
    "name": "ipython",
    "version": 3
   },
   "file_extension": ".py",
   "mimetype": "text/x-python",
   "name": "python",
   "nbconvert_exporter": "python",
   "pygments_lexer": "ipython3",
   "version": "3.6.3"
  }
 },
 "nbformat": 4,
 "nbformat_minor": 2
}
