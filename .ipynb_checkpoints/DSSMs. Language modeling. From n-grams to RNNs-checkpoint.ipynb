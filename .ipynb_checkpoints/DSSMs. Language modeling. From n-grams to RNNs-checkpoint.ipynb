{
 "cells": [
  {
   "cell_type": "code",
   "execution_count": 2,
   "metadata": {},
   "outputs": [],
   "source": [
    "import numpy as np\n",
    "from tensorflow import keras"
   ]
  },
  {
   "cell_type": "code",
   "execution_count": 4,
   "metadata": {},
   "outputs": [],
   "source": [
    "with open(\"data/reviews.txt\") as f:\n",
    "    data = \" \".join([ x.strip() for x in f ])"
   ]
  },
  {
   "cell_type": "code",
   "execution_count": 5,
   "metadata": {},
   "outputs": [
    {
     "data": {
      "text/plain": [
       "'bromwell high is a cartoon comedy . it ran at the same time as some other programs about school life  such as  teachers  . my   years in the teaching profession lead me to believe that bromwell high  '"
      ]
     },
     "execution_count": 5,
     "metadata": {},
     "output_type": "execute_result"
    }
   ],
   "source": [
    "data[:200]"
   ]
  },
  {
   "cell_type": "code",
   "execution_count": 10,
   "metadata": {},
   "outputs": [],
   "source": [
    "chars = set(data)"
   ]
  },
  {
   "cell_type": "code",
   "execution_count": 11,
   "metadata": {},
   "outputs": [],
   "source": [
    "chars_ind = { x : i for i,x in enumerate(chars) }"
   ]
  },
  {
   "cell_type": "code",
   "execution_count": 12,
   "metadata": {},
   "outputs": [],
   "source": [
    "chars_array = [' '] * len(chars)\n",
    "for x,i in chars_ind.items():\n",
    "    chars_array[i] = x"
   ]
  },
  {
   "cell_type": "code",
   "execution_count": 13,
   "metadata": {},
   "outputs": [],
   "source": [
    "X = np.zeros( (len(data), len(chars)) )\n",
    "for i, ch in enumerate(data):\n",
    "    X[i, chars_ind[ch]] = 1"
   ]
  },
  {
   "cell_type": "code",
   "execution_count": 14,
   "metadata": {},
   "outputs": [
    {
     "name": "stderr",
     "output_type": "stream",
     "text": [
      "Using TensorFlow backend.\n"
     ]
    }
   ],
   "source": [
    "from keras.models import Sequential\n",
    "from keras.layers.recurrent import LSTM"
   ]
  },
  {
   "cell_type": "code",
   "execution_count": 15,
   "metadata": {},
   "outputs": [],
   "source": [
    "def get_minibatch(start, size):\n",
    "    X_data = np.zeros( (size, 100, len(chars)) )\n",
    "    for i in range(size):\n",
    "        for j in range(100):\n",
    "            X_data[i, j, chars_ind[data[ start+i+j ]]] = 1\n",
    "    return X_data\n",
    "\n",
    "def get_target(start, size):\n",
    "    y_data = np.zeros( (size, len(chars)) )\n",
    "    for i in range(size):\n",
    "        y_data[ i, chars_ind[data[start+i+100]] ] = 1\n",
    "    return y_data"
   ]
  },
  {
   "cell_type": "code",
   "execution_count": 16,
   "metadata": {},
   "outputs": [
    {
     "data": {
      "text/plain": [
       "(10, 28)"
      ]
     },
     "execution_count": 16,
     "metadata": {},
     "output_type": "execute_result"
    }
   ],
   "source": [
    "get_target(0, 10).shape"
   ]
  },
  {
   "cell_type": "code",
   "execution_count": 50,
   "metadata": {
    "collapsed": true
   },
   "outputs": [],
   "source": [
    "model = Sequential()\n",
    "model.add(LSTM(128, input_shape=(100, len(chars)), return_sequences=False))"
   ]
  },
  {
   "cell_type": "code",
   "execution_count": 46,
   "metadata": {
    "collapsed": true
   },
   "outputs": [],
   "source": [
    "from keras.layers import TimeDistributed, Activation, Dense"
   ]
  },
  {
   "cell_type": "code",
   "execution_count": 51,
   "metadata": {},
   "outputs": [],
   "source": [
    "model.add(Dense(len(chars)))\n",
    "model.add(Activation('softmax'))"
   ]
  },
  {
   "cell_type": "code",
   "execution_count": 52,
   "metadata": {},
   "outputs": [
    {
     "name": "stdout",
     "output_type": "stream",
     "text": [
      "_________________________________________________________________\n",
      "Layer (type)                 Output Shape              Param #   \n",
      "=================================================================\n",
      "lstm_4 (LSTM)                (None, 128)               80384     \n",
      "_________________________________________________________________\n",
      "dense_2 (Dense)              (None, 28)                3612      \n",
      "_________________________________________________________________\n",
      "activation_2 (Activation)    (None, 28)                0         \n",
      "=================================================================\n",
      "Total params: 83,996\n",
      "Trainable params: 83,996\n",
      "Non-trainable params: 0\n",
      "_________________________________________________________________\n"
     ]
    }
   ],
   "source": [
    "model.summary()"
   ]
  },
  {
   "cell_type": "code",
   "execution_count": 53,
   "metadata": {
    "collapsed": true
   },
   "outputs": [],
   "source": [
    "model.compile(loss='categorical_crossentropy', optimizer='rmsprop')"
   ]
  },
  {
   "cell_type": "code",
   "execution_count": 64,
   "metadata": {
    "collapsed": true
   },
   "outputs": [],
   "source": [
    "def data_gen():\n",
    "    iStart, batch_size = 0, 64\n",
    "    while True:\n",
    "        yield (get_minibatch(iStart, batch_size), get_target(iStart, batch_size))\n",
    "        iStart += batch_size"
   ]
  },
  {
   "cell_type": "code",
   "execution_count": null,
   "metadata": {},
   "outputs": [
    {
     "name": "stdout",
     "output_type": "stream",
     "text": [
      "Epoch 1/20\n",
      " 353/1000 [=========>....................] - ETA: 206s - loss: 2.2581"
     ]
    }
   ],
   "source": [
    "model.fit_generator(data_gen(), steps_per_epoch=1000, epochs=20)"
   ]
  },
  {
   "cell_type": "code",
   "execution_count": 88,
   "metadata": {},
   "outputs": [
    {
     "name": "stdout",
     "output_type": "stream",
     "text": [
      "bromwell high is a cartoon comedy . it ran at the same time as some other programs about school lifed acamuxnt d ithin thefood maolng eson  the hocd noit the the ghaw cilan om the hlkith pthethimd toais sacat int it k ibe at  athih  bur   .   b    t j .  br   wbb   au twimate sindisesint heubc hisel\n"
     ]
    }
   ],
   "source": [
    "x_init = get_minibatch(0, 1)[0]\n",
    "x_init\n",
    "# s = data[0:100]\n",
    "for i in range(200):\n",
    "    probs = model.predict_proba(np.array([x_init]), verbose=False)\n",
    "    next_char = np.random.choice(len(chars), p=probs[0])\n",
    "    s += chars_array[ next_char ]\n",
    "    for j in range(99):\n",
    "        x_init[j] = x_init[j+1]\n",
    "    x_init[-1] = np.zeros(len(chars))\n",
    "    x_init[-1, next_char] = 1\n",
    "print(s)"
   ]
  },
  {
   "cell_type": "code",
   "execution_count": 80,
   "metadata": {},
   "outputs": [
    {
     "data": {
      "text/plain": [
       "(1, 99, 28)"
      ]
     },
     "execution_count": 80,
     "metadata": {},
     "output_type": "execute_result"
    }
   ],
   "source": [
    "np.array([x_init]).shape"
   ]
  }
 ],
 "metadata": {
  "kernelspec": {
   "display_name": "Python 3",
   "language": "python",
   "name": "python3"
  },
  "language_info": {
   "codemirror_mode": {
    "name": "ipython",
    "version": 3
   },
   "file_extension": ".py",
   "mimetype": "text/x-python",
   "name": "python",
   "nbconvert_exporter": "python",
   "pygments_lexer": "ipython3",
   "version": "3.6.3"
  }
 },
 "nbformat": 4,
 "nbformat_minor": 2
}
