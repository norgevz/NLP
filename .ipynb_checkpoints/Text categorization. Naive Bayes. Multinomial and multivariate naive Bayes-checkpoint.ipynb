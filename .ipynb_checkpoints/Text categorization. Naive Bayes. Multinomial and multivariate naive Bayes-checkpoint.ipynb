{
 "cells": [
  {
   "cell_type": "markdown",
   "metadata": {},
   "source": [
    "## Very naive and straightforward text categorization"
   ]
  },
  {
   "cell_type": "code",
   "execution_count": 8,
   "metadata": {
    "collapsed": true
   },
   "outputs": [],
   "source": [
    "import string\n",
    "import collections\n",
    "import glob\n",
    "import codecs\n",
    "import numpy as np\n",
    "import scipy as sp\n",
    "from scipy.sparse import lil_matrix"
   ]
  },
  {
   "cell_type": "code",
   "execution_count": 12,
   "metadata": {
    "collapsed": true
   },
   "outputs": [],
   "source": [
    "translator = str.maketrans(\"\",\"\", string.punctuation)\n",
    "dirs = glob.glob('20news-bydate-train/*')"
   ]
  },
  {
   "cell_type": "code",
   "execution_count": 26,
   "metadata": {
    "collapsed": true
   },
   "outputs": [],
   "source": [
    "train_set = []\n",
    "train_labels = []\n",
    "total_counts = collections.Counter()\n",
    "for directory in dirs:\n",
    "    filenames = glob.glob(directory + '/*')\n",
    "    print(directory, len(filenames))\n",
    "    for filename in filenames:\n",
    "        with codecs.open(filename, 'r', 'latin1') as f:\n",
    "            lines = f.readlines()\n",
    "            lines_proc = [y for x in lines for y in x.strip().lower().translate(translator).split()]\n",
    "            count = collections.Counter(lines_proc)\n",
    "            total_counts += count\n",
    "            train_set.append(count)\n",
    "            train_labels.append(directory)"
   ]
  },
  {
   "cell_type": "code",
   "execution_count": 14,
   "metadata": {
    "collapsed": true
   },
   "outputs": [],
   "source": [
    "vocab_counts = {w: c for w, c in total_counts.items() if c > 9}\n",
    "vocab = {w: i for i,w in enumerate(sorted(vocab_counts.keys()))}"
   ]
  },
  {
   "cell_type": "code",
   "execution_count": 15,
   "metadata": {
    "scrolled": true
   },
   "outputs": [
    {
     "data": {
      "text/plain": [
       "17247"
      ]
     },
     "execution_count": 15,
     "metadata": {},
     "output_type": "execute_result"
    }
   ],
   "source": [
    "len(vocab)"
   ]
  },
  {
   "cell_type": "code",
   "execution_count": null,
   "metadata": {
    "scrolled": false
   },
   "outputs": [],
   "source": [
    "X = lil_matrix((len(train_set), len(vocab)))\n",
    "for i_doc, doc in enumerate(train_set):\n",
    "    for w,c in doc.items():\n",
    "        if w in vocab:\n",
    "            X[i_doc, vocab[w]] = c"
   ]
  },
  {
   "cell_type": "code",
   "execution_count": 18,
   "metadata": {
    "collapsed": true
   },
   "outputs": [],
   "source": [
    "labels_array = sorted(collections.Counter(train_labels).keys())\n",
    "labels_dict = {l: i for i, l in enumerate(labels_array)}\n",
    "y = np.array([labels_dict[x] for x in train_labels])"
   ]
  },
  {
   "cell_type": "code",
   "execution_count": 19,
   "metadata": {},
   "outputs": [
    {
     "data": {
      "text/plain": [
       "((11314,), (11314, 17247))"
      ]
     },
     "execution_count": 19,
     "metadata": {},
     "output_type": "execute_result"
    }
   ],
   "source": [
    "y.shape, X.shape"
   ]
  },
  {
   "cell_type": "code",
   "execution_count": 20,
   "metadata": {},
   "outputs": [
    {
     "data": {
      "text/plain": [
       "<11314x17247 sparse matrix of type '<class 'numpy.float64'>'\n",
       "\twith 1511629 stored elements in LInked List format>"
      ]
     },
     "execution_count": 20,
     "metadata": {},
     "output_type": "execute_result"
    }
   ],
   "source": [
    "X"
   ]
  },
  {
   "cell_type": "code",
   "execution_count": 21,
   "metadata": {
    "collapsed": true
   },
   "outputs": [],
   "source": [
    "from sklearn.naive_bayes import BernoulliNB, MultinomialNB"
   ]
  },
  {
   "cell_type": "code",
   "execution_count": 22,
   "metadata": {},
   "outputs": [
    {
     "data": {
      "text/plain": [
       "MultinomialNB(alpha=1.0, class_prior=None, fit_prior=True)"
      ]
     },
     "execution_count": 22,
     "metadata": {},
     "output_type": "execute_result"
    }
   ],
   "source": [
    "model = MultinomialNB()\n",
    "model.fit(X, y)"
   ]
  },
  {
   "cell_type": "code",
   "execution_count": 23,
   "metadata": {},
   "outputs": [
    {
     "data": {
      "text/plain": [
       "(20, 17247)"
      ]
     },
     "execution_count": 23,
     "metadata": {},
     "output_type": "execute_result"
    }
   ],
   "source": [
    "model.coef_.shape"
   ]
  },
  {
   "cell_type": "code",
   "execution_count": 24,
   "metadata": {},
   "outputs": [
    {
     "data": {
      "text/plain": [
       "0.94679158564610222"
      ]
     },
     "execution_count": 24,
     "metadata": {},
     "output_type": "execute_result"
    }
   ],
   "source": [
    "model.score(X, y)"
   ]
  },
  {
   "cell_type": "code",
   "execution_count": 25,
   "metadata": {},
   "outputs": [
    {
     "data": {
      "text/plain": [
       "0.8195156443344529"
      ]
     },
     "execution_count": 25,
     "metadata": {},
     "output_type": "execute_result"
    }
   ],
   "source": [
    "model = BernoulliNB()\n",
    "model.fit(X, y)\n",
    "model.score(X, y)"
   ]
  },
  {
   "cell_type": "code",
   "execution_count": 39,
   "metadata": {},
   "outputs": [
    {
     "name": "stdout",
     "output_type": "stream",
     "text": [
      "20news-bydate-test/sci.electronics 393\n",
      "20news-bydate-test/comp.graphics 389\n",
      "20news-bydate-test/talk.religion.misc 251\n",
      "20news-bydate-test/comp.windows.x 395\n",
      "20news-bydate-test/alt.atheism 319\n",
      "20news-bydate-test/talk.politics.misc 310\n",
      "20news-bydate-test/comp.os.ms-windows.misc 394\n",
      "20news-bydate-test/comp.sys.mac.hardware 385\n",
      "20news-bydate-test/rec.autos 396\n",
      "20news-bydate-test/rec.sport.baseball 397\n",
      "20news-bydate-test/comp.sys.ibm.pc.hardware 392\n",
      "20news-bydate-test/rec.motorcycles 398\n",
      "20news-bydate-test/sci.space 394\n",
      "20news-bydate-test/soc.religion.christian 398\n",
      "20news-bydate-test/talk.politics.mideast 376\n",
      "20news-bydate-test/sci.crypt 396\n",
      "20news-bydate-test/talk.politics.guns 364\n",
      "20news-bydate-test/misc.forsale 390\n",
      "20news-bydate-test/rec.sport.hockey 399\n",
      "20news-bydate-test/sci.med 396\n"
     ]
    }
   ],
   "source": [
    "test_set = []\n",
    "test_labels = []\n",
    "for directory in glob.glob('20news-bydate-test/*'):\n",
    "    filenames = glob.glob(directory + '/*')\n",
    "    print(directory, len(filenames))\n",
    "    for filename in filenames:\n",
    "        with codecs.open(filename, 'r', 'latin1') as f:\n",
    "            lines = f.readlines()\n",
    "            lines_proc = [y for x in lines for y in x.strip().lower().translate(translator).split() if y in vocab]\n",
    "            count = collections.Counter(lines_proc)\n",
    "            test_set.append(count)\n",
    "            test_labels.append(directory)"
   ]
  },
  {
   "cell_type": "code",
   "execution_count": 36,
   "metadata": {
    "collapsed": true
   },
   "outputs": [],
   "source": [
    "X_test = lil_matrix((len(test_set), len(vocab)))\n",
    "for i_doc, doc in enumerate(test_set):\n",
    "    for w,c in doc.items():\n",
    "        if w in vocab:\n",
    "            X[i_doc, vocab[w]] = c"
   ]
  },
  {
   "cell_type": "code",
   "execution_count": 41,
   "metadata": {
    "collapsed": true
   },
   "outputs": [],
   "source": [
    "y_test = np.array([labels_dict['20news-bydate-train/' + x.split('/')[1]] for x in test_labels])"
   ]
  },
  {
   "cell_type": "code",
   "execution_count": 48,
   "metadata": {
    "collapsed": true
   },
   "outputs": [],
   "source": [
    "def test_model(model, name=None):\n",
    "    if not name is None:\n",
    "        print(name)\n",
    "    model.fit(X, y)\n",
    "    print(\"Train set: %.5f\\tTest set: %.5f\" % (model.score(X, y), model.score(X_test, y_test)) )"
   ]
  },
  {
   "cell_type": "code",
   "execution_count": 50,
   "metadata": {},
   "outputs": [
    {
     "name": "stdout",
     "output_type": "stream",
     "text": [
      "MultinomialNB\n",
      "Train set: 0.91877\tTest set: 0.05297\n",
      "BernoulliNB\n",
      "Train set: 0.79247\tTest set: 0.05178\n"
     ]
    }
   ],
   "source": [
    "test_model(MultinomialNB(), 'MultinomialNB')\n",
    "test_model(BernoulliNB(), 'BernoulliNB')"
   ]
  },
  {
   "cell_type": "markdown",
   "metadata": {
    "collapsed": true
   },
   "source": [
    "Oh my God! Nothing works! What do we do?.."
   ]
  }
 ],
 "metadata": {
  "kernelspec": {
   "display_name": "Python 3",
   "language": "python",
   "name": "python3"
  },
  "language_info": {
   "codemirror_mode": {
    "name": "ipython",
    "version": 3
   },
   "file_extension": ".py",
   "mimetype": "text/x-python",
   "name": "python",
   "nbconvert_exporter": "python",
   "pygments_lexer": "ipython3",
   "version": "3.6.3"
  }
 },
 "nbformat": 4,
 "nbformat_minor": 2
}
